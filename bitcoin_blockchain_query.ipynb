{
  "cells": [
    {
      "metadata": {
        "_cell_guid": "b1076dfc-b9ad-4769-8c92-a6c4dae69d19",
        "_uuid": "8f2839f25d086af736a60e9eeb907d3b93b6e0e5",
        "trusted": true
      },
      "cell_type": "code",
      "source": "# This Python 3 environment comes with many helpful analytics libraries installed\n# It is defined by the kaggle/python docker image: https://github.com/kaggle/docker-python\n# For example, here's several helpful packages to load in \n\nimport numpy as np # linear algebra\nimport pandas as pd # data processing, CSV file I/O (e.g. pd.read_csv)\nimport bq_helper # helper functions for putting BigQuery results in Pandas DataFrames\nfrom matplotlib import pyplot as plt # plotting\n\n# Input data files are available in the \"../input/\" directory.\n# For example, running this (by clicking run or pressing Shift+Enter) will list the files in the input directory\n\nimport os\nprint(os.listdir(\"../input\"))\n\n# Any results you write to the current directory are saved as output.",
      "execution_count": 1,
      "outputs": [
        {
          "output_type": "stream",
          "text": "[]\n",
          "name": "stdout"
        }
      ]
    },
    {
      "metadata": {
        "_cell_guid": "79c7e3d0-c299-4dcb-8224-4455121ee9b0",
        "_uuid": "d629ff2d2480ee46fbb7e2d37f6b5fab8052498a",
        "trusted": true
      },
      "cell_type": "code",
      "source": "# create a helper object for our bigquery dataset\nbitcoin_blockchain = bq_helper.BigQueryHelper(active_project= \"bigquery-public-data\", \n                                       dataset_name = \"bitcoin_blockchain\")\n# print a list of all the tables in the hacker_news dataset\nbitcoin_blockchain.list_tables()",
      "execution_count": 2,
      "outputs": [
        {
          "output_type": "execute_result",
          "execution_count": 2,
          "data": {
            "text/plain": "['blocks', 'transactions']"
          },
          "metadata": {}
        }
      ]
    },
    {
      "metadata": {
        "_cell_guid": "2056856a-7324-4ce9-abc8-dd529db47746",
        "_uuid": "140580dbfac292796ab9f835a56aa6685f4cee07",
        "trusted": true
      },
      "cell_type": "code",
      "source": "# print information on all the columns in the \"blocks\" table\n# in the bitcoin_blockchain dataset\nbitcoin_blockchain.table_schema(\"transactions\")",
      "execution_count": 3,
      "outputs": [
        {
          "output_type": "execute_result",
          "execution_count": 3,
          "data": {
            "text/plain": "[SchemaField('timestamp', 'INTEGER', 'NULLABLE', None, ()),\n SchemaField('transaction_id', 'STRING', 'NULLABLE', None, ()),\n SchemaField('inputs', 'RECORD', 'REPEATED', None, (SchemaField('input_script_bytes', 'BYTES', 'NULLABLE', None, ()), SchemaField('input_script_string', 'STRING', 'NULLABLE', None, ()), SchemaField('input_script_string_error', 'STRING', 'NULLABLE', None, ()), SchemaField('input_sequence_number', 'INTEGER', 'NULLABLE', None, ()), SchemaField('input_pubkey_base58', 'STRING', 'NULLABLE', None, ()), SchemaField('input_pubkey_base58_error', 'STRING', 'NULLABLE', None, ()))),\n SchemaField('outputs', 'RECORD', 'REPEATED', None, (SchemaField('output_satoshis', 'INTEGER', 'NULLABLE', None, ()), SchemaField('output_script_bytes', 'BYTES', 'NULLABLE', None, ()), SchemaField('output_script_string', 'STRING', 'NULLABLE', None, ()), SchemaField('output_script_string_error', 'STRING', 'NULLABLE', None, ()), SchemaField('output_pubkey_base58', 'STRING', 'NULLABLE', None, ()), SchemaField('output_pubkey_base58_error', 'STRING', 'NULLABLE', None, ()))),\n SchemaField('block_id', 'STRING', 'NULLABLE', None, ()),\n SchemaField('previous_block', 'STRING', 'NULLABLE', None, ()),\n SchemaField('merkle_root', 'STRING', 'NULLABLE', None, ()),\n SchemaField('nonce', 'INTEGER', 'NULLABLE', None, ()),\n SchemaField('version', 'INTEGER', 'NULLABLE', None, ()),\n SchemaField('work_terahash', 'INTEGER', 'NULLABLE', None, ()),\n SchemaField('work_error', 'STRING', 'NULLABLE', None, ())]"
          },
          "metadata": {}
        }
      ]
    },
    {
      "metadata": {
        "_cell_guid": "8b01776f-baba-4c82-b3f9-49af512bb2d5",
        "_uuid": "a1c0adb82369ca7a8b661608094a2131e2f41dbd",
        "trusted": true
      },
      "cell_type": "code",
      "source": "# preview the first couple lines of the \"blocks\" table\nbitcoin_blockchain.head(\"transactions\")",
      "execution_count": 4,
      "outputs": [
        {
          "output_type": "execute_result",
          "execution_count": 4,
          "data": {
            "text/plain": "       timestamp    ...     work_error\n0  1488040145000    ...           None\n1  1472776292000    ...           None\n2  1492374862000    ...           None\n3  1477326198000    ...           None\n4  1511252626000    ...           None\n\n[5 rows x 11 columns]",
            "text/html": "<div>\n<style scoped>\n    .dataframe tbody tr th:only-of-type {\n        vertical-align: middle;\n    }\n\n    .dataframe tbody tr th {\n        vertical-align: top;\n    }\n\n    .dataframe thead th {\n        text-align: right;\n    }\n</style>\n<table border=\"1\" class=\"dataframe\">\n  <thead>\n    <tr style=\"text-align: right;\">\n      <th></th>\n      <th>timestamp</th>\n      <th>transaction_id</th>\n      <th>inputs</th>\n      <th>outputs</th>\n      <th>block_id</th>\n      <th>previous_block</th>\n      <th>merkle_root</th>\n      <th>nonce</th>\n      <th>version</th>\n      <th>work_terahash</th>\n      <th>work_error</th>\n    </tr>\n  </thead>\n  <tbody>\n    <tr>\n      <th>0</th>\n      <td>1488040145000</td>\n      <td>fb31ab50aa936882e8b4a41b068023d3584aa8bf652817...</td>\n      <td>[{'input_script_bytes': b'H0E\\x02!\\x00\\xbeX8\\x...</td>\n      <td>[{'output_satoshis': 26975892, 'output_script_...</td>\n      <td>0000000000000000000261d50ff902034871137e8748f7...</td>\n      <td>00000000000000000249500b5ac5143f15c88ded7fa8fe...</td>\n      <td>4d1c1a590d2ce1fb5286419f489dcdf55d5339faf09ece...</td>\n      <td>1050553231</td>\n      <td>536870914</td>\n      <td>18931641524</td>\n      <td>None</td>\n    </tr>\n    <tr>\n      <th>1</th>\n      <td>1472776292000</td>\n      <td>1bf438fce6f069c1912a010b17d0f4c0303f4f28d6dd66...</td>\n      <td>[{'input_script_bytes': b\"H0E\\x02!\\x00\\x90\\x0c...</td>\n      <td>[{'output_satoshis': 524151, 'output_script_by...</td>\n      <td>000000000000000001b4443ec702e88675fb689dc8848d...</td>\n      <td>0000000000000000018cde3f6c33e586b9db21b45a8ace...</td>\n      <td>78b80ad3c8110b39e4be752a52753a3d5e611b1db8cdab...</td>\n      <td>2229443358</td>\n      <td>536870912</td>\n      <td>9481538743</td>\n      <td>None</td>\n    </tr>\n    <tr>\n      <th>2</th>\n      <td>1492374862000</td>\n      <td>6e08a2e66e55f80fd255c0cc79944638613138d6705204...</td>\n      <td>[{'input_script_bytes': b'H0E\\x02!\\x00\\xe5\\xf2...</td>\n      <td>[{'output_satoshis': 938567, 'output_script_by...</td>\n      <td>000000000000000000506f6c74e569ab33ef252aadc231...</td>\n      <td>00000000000000000057f545f49175cf2ca3a746ad5209...</td>\n      <td>0f72fa69878ad34e02a2afc6559ca26716dc92ff3201b3...</td>\n      <td>3472499757</td>\n      <td>536870914</td>\n      <td>22368906784</td>\n      <td>None</td>\n    </tr>\n    <tr>\n      <th>3</th>\n      <td>1477326198000</td>\n      <td>d3d4dd6f5bd6d87dd521d4851eaed495161e584e8c0e73...</td>\n      <td>[{'input_script_bytes': b'G0D\\x02 m@(\\x8a\\xcf\\...</td>\n      <td>[{'output_satoshis': 350000, 'output_script_by...</td>\n      <td>00000000000000000170adbfdacf6c5200cb93ecf629cc...</td>\n      <td>000000000000000001ab0c8b2b1b34973ec45a96588a0d...</td>\n      <td>6d3fb05be67a0632583fc8ea08116206d12548d8e37b04...</td>\n      <td>361808208</td>\n      <td>536870912</td>\n      <td>10892986963</td>\n      <td>None</td>\n    </tr>\n    <tr>\n      <th>4</th>\n      <td>1511252626000</td>\n      <td>deb8fcb54d28ef9ba53bf18c83f781e90b18f5011428d6...</td>\n      <td>[{'input_script_bytes': b\"G0D\\x02 f\\xa3\\x98r\\x...</td>\n      <td>[{'output_satoshis': 37798, 'output_script_byt...</td>\n      <td>00000000000000000080e525cbdded5452da02aaf8a183...</td>\n      <td>000000000000000000709033a803959fe993468d5655d3...</td>\n      <td>586ef8f46284245fd15f24ef9ac3dbe19e95d08934e226...</td>\n      <td>3548032990</td>\n      <td>536870912</td>\n      <td>58602376365</td>\n      <td>None</td>\n    </tr>\n  </tbody>\n</table>\n</div>"
          },
          "metadata": {}
        }
      ]
    },
    {
      "metadata": {
        "_cell_guid": "82018f6f-69d2-4c72-ac97-a11a1d5ba519",
        "_uuid": "92f7016f3a9a1fc3feeaf5d7ad152641bc3078af",
        "trusted": true
      },
      "cell_type": "code",
      "source": "# preview the first fuve entries in the by column of the blocks table\nbitcoin_blockchain.head(\"transactions\", selected_columns=\"block_id\", num_rows=5)",
      "execution_count": 9,
      "outputs": [
        {
          "output_type": "execute_result",
          "execution_count": 9,
          "data": {
            "text/plain": "                                            block_id\n0  0000000000000000000261d50ff902034871137e8748f7...\n1  000000000000000001b4443ec702e88675fb689dc8848d...\n2  000000000000000000506f6c74e569ab33ef252aadc231...\n3  00000000000000000170adbfdacf6c5200cb93ecf629cc...\n4  00000000000000000080e525cbdded5452da02aaf8a183...",
            "text/html": "<div>\n<style scoped>\n    .dataframe tbody tr th:only-of-type {\n        vertical-align: middle;\n    }\n\n    .dataframe tbody tr th {\n        vertical-align: top;\n    }\n\n    .dataframe thead th {\n        text-align: right;\n    }\n</style>\n<table border=\"1\" class=\"dataframe\">\n  <thead>\n    <tr style=\"text-align: right;\">\n      <th></th>\n      <th>block_id</th>\n    </tr>\n  </thead>\n  <tbody>\n    <tr>\n      <th>0</th>\n      <td>0000000000000000000261d50ff902034871137e8748f7...</td>\n    </tr>\n    <tr>\n      <th>1</th>\n      <td>000000000000000001b4443ec702e88675fb689dc8848d...</td>\n    </tr>\n    <tr>\n      <th>2</th>\n      <td>000000000000000000506f6c74e569ab33ef252aadc231...</td>\n    </tr>\n    <tr>\n      <th>3</th>\n      <td>00000000000000000170adbfdacf6c5200cb93ecf629cc...</td>\n    </tr>\n    <tr>\n      <th>4</th>\n      <td>00000000000000000080e525cbdded5452da02aaf8a183...</td>\n    </tr>\n  </tbody>\n</table>\n</div>"
          },
          "metadata": {}
        }
      ]
    },
    {
      "metadata": {
        "_cell_guid": "61bdd859-db04-4b17-b079-504add4fcb07",
        "_uuid": "03009549b409cb9387b4c9ede3c90f42e174b85e",
        "trusted": true
      },
      "cell_type": "code",
      "source": "# this query looks in the blocks table in the bitcoin_blockchain\n# dataset, then gets the block_id column from every row where \n# the timestamp column is greater than 1288778654000.\nquery = \"\"\"SELECT version\n            FROM `bigquery-public-data.bitcoin_blockchain.blocks`\n            WHERE timestamp > 1515949679000; \"\"\"\n\n# check how big this query will be\nbitcoin_blockchain.estimate_query_size(query)",
      "execution_count": 6,
      "outputs": [
        {
          "output_type": "execute_result",
          "execution_count": 6,
          "data": {
            "text/plain": "0.007907122373580933"
          },
          "metadata": {}
        }
      ]
    },
    {
      "metadata": {
        "_cell_guid": "bfbf3802-c9af-41ea-889e-f42cea77c823",
        "_uuid": "b93ea30d19afeb4dd6c772e1d454fdbed0ec67c0",
        "collapsed": true,
        "trusted": true
      },
      "cell_type": "code",
      "source": "# only run this query if it's less than 100 MB\nrecent_version = bitcoin_blockchain.query_to_pandas_safe(query, max_gb_scanned=0.1)",
      "execution_count": 7,
      "outputs": []
    },
    {
      "metadata": {
        "_cell_guid": "b6333ef3-fc1c-4f52-9990-a83214057e17",
        "_uuid": "374d0dc6ea358ff5fcb5e0915bb649a74394a5de",
        "trusted": true
      },
      "cell_type": "code",
      "source": "plt.hist(recent_version)",
      "execution_count": 8,
      "outputs": [
        {
          "output_type": "execute_result",
          "execution_count": 8,
          "data": {
            "text/plain": "(array([6.4000e+01, 2.0000e+00, 9.0000e+00, 2.6268e+04, 1.0000e+00,\n        3.0000e+00, 1.3000e+01, 1.3000e+01, 3.3000e+01, 2.4000e+01]),\n array([ 0. ,  1.1,  2.2,  3.3,  4.4,  5.5,  6.6,  7.7,  8.8,  9.9, 11. ]),\n <a list of 10 Patch objects>)"
          },
          "metadata": {}
        },
        {
          "output_type": "display_data",
          "data": {
            "text/plain": "<matplotlib.figure.Figure at 0x7fd34321a4a8>",
            "image/png": "[encoded data removed]"
          },
          "metadata": {}
        }
      ]
    }
  ],
  "metadata": {
    "kernelspec": {
      "display_name": "Python 3",
      "language": "python",
      "name": "python3"
    },
    "language_info": {
      "name": "python",
      "version": "3.6.6",
      "mimetype": "text/x-python",
      "codemirror_mode": {
        "name": "ipython",
        "version": 3
      },
      "pygments_lexer": "ipython3",
      "nbconvert_exporter": "python",
      "file_extension": ".py"
    }
  },
  "nbformat": 4,
  "nbformat_minor": 1
}